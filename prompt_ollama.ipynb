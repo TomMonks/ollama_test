{
 "cells": [
  {
   "cell_type": "markdown",
   "id": "4c4a42a8-71b3-437f-b05f-19e99e24d521",
   "metadata": {},
   "source": [
    "# Test prompting local open models through Ollama Python"
   ]
  },
  {
   "cell_type": "markdown",
   "id": "8e2e204f-0c15-4d70-845d-3ddff4afda2f",
   "metadata": {},
   "source": [
    "## Imports"
   ]
  },
  {
   "cell_type": "code",
   "execution_count": 53,
   "id": "3437032e-5656-491b-a0cd-9c1c07fb4941",
   "metadata": {},
   "outputs": [],
   "source": [
    "import ollama\n",
    "from ollama import chat"
   ]
  },
  {
   "cell_type": "markdown",
   "id": "7495cbcd-7474-4a56-ae4a-fa7fcddaba84",
   "metadata": {},
   "source": [
    "## Open models installed on local machine"
   ]
  },
  {
   "cell_type": "code",
   "execution_count": 54,
   "id": "6c278f1e-9dae-4731-a84e-0571a292dcd8",
   "metadata": {},
   "outputs": [],
   "source": [
    "def installed_models():\n",
    "    '''\n",
    "    Iterate through ollama models and return names as list\n",
    "    '''\n",
    "    return [md.model for md in ollama.list().models]"
   ]
  },
  {
   "cell_type": "code",
   "execution_count": 55,
   "id": "c2ff5930-932a-43b1-ae73-70533fe32104",
   "metadata": {},
   "outputs": [
    {
     "data": {
      "text/plain": [
       "['phi4:latest',\n",
       " 'deepseek-r1:latest',\n",
       " 'deepseek-r1:32b',\n",
       " 'llama3.3:latest',\n",
       " 'deepseek-coder-v2:16b']"
      ]
     },
     "execution_count": 55,
     "metadata": {},
     "output_type": "execute_result"
    }
   ],
   "source": [
    "local_models = installed_models()\n",
    "local_models"
   ]
  },
  {
   "cell_type": "markdown",
   "id": "a5dd7a4e-4786-48b8-9f9f-cb2cf8d12523",
   "metadata": {},
   "source": [
    "## Stream Chat Responses from a model"
   ]
  },
  {
   "cell_type": "code",
   "execution_count": null,
   "id": "5d48319e-fe11-4ab1-a2b9-68079d4bd217",
   "metadata": {},
   "outputs": [],
   "source": [
    "def get_stream(model_name: str, prompt_msg: str):\n",
    "    '''get a streaming chat from a model\n",
    "    '''\n",
    "    stream = chat(\n",
    "        model=model_name,\n",
    "        messages=[{'role': 'user', 'content': prompt_msg}],\n",
    "        stream=True,\n",
    "    )\n",
    "\n",
    "    return stream"
   ]
  },
  {
   "cell_type": "code",
   "execution_count": null,
   "id": "c87b6c78-f0e8-4b5c-b8a3-56bf931cece7",
   "metadata": {},
   "outputs": [],
   "source": [
    "prompt_1 = \"\"\"\n",
    "I would like to code a simpy 4.1 model in Python of an M/M/s queuing system. \n",
    "I would like to code this in stages. The first stage is to create a simpy generator function\n",
    "for arrivals. I would like to be able to set the run length and the arrival rate. Use numpy for sampling.\n",
    "Do not output any explantory text. Only provide python code.\"\"\""
   ]
  },
  {
   "cell_type": "code",
   "execution_count": null,
   "id": "4f1c1142-8200-4509-9c8e-1bb3fba2adc5",
   "metadata": {},
   "outputs": [],
   "source": [
    "# use coder first.\n",
    "stream = get_stream(local_models[3], prompt_1)"
   ]
  },
  {
   "cell_type": "code",
   "execution_count": null,
   "id": "e7a14552-b4e8-492a-b058-d526dc16860e",
   "metadata": {},
   "outputs": [],
   "source": [
    "with open('response_1.txt', 'w') as writer:\n",
    "    for chunk in stream:\n",
    "      print(chunk['message']['content'], end='', flush=True)\n",
    "      writer.write(chunk['message']['content'])"
   ]
  },
  {
   "cell_type": "markdown",
   "id": "2a8acc22-dfe5-495c-9b4a-73194f3a7c8a",
   "metadata": {},
   "source": [
    "# critique with 2nd model"
   ]
  },
  {
   "cell_type": "code",
   "execution_count": null,
   "id": "9f15f1b2-9824-42e0-bb6c-5623a79a2fd8",
   "metadata": {},
   "outputs": [],
   "source": [
    "def read_response(file_name):\n",
    "    response = \"\"\n",
    "    with open(file_name, 'r') as reader:\n",
    "        for line in reader:\n",
    "            response += line.rstrip('\\n')\n",
    "    return response"
   ]
  },
  {
   "cell_type": "code",
   "execution_count": null,
   "id": "b491bf5b-8907-49c0-a19a-6a835983928c",
   "metadata": {},
   "outputs": [],
   "source": [
    "prompt_2 = \"\"\n",
    "prompt_2_postfix = \"Please critique the simpy and python code included in the text below. Check the code for bugs and that it uses simpy correctly. Improve the code.\"\n",
    "last_response = read_response(\"response_1.txt\")\n",
    "prompt_2 = prompt_2_postfix + last_response"
   ]
  },
  {
   "cell_type": "code",
   "execution_count": null,
   "id": "6bcade22-8651-4ed4-b814-dca3c7c5c92c",
   "metadata": {},
   "outputs": [],
   "source": [
    "stream = get_stream(local_models[1], prompt_2)"
   ]
  },
  {
   "cell_type": "code",
   "execution_count": null,
   "id": "975fe43b-d752-4e8f-b3c6-0097d9d9b086",
   "metadata": {},
   "outputs": [],
   "source": [
    "for chunk in stream:\n",
    "  print(chunk['message']['content'], end='', flush=True)"
   ]
  },
  {
   "cell_type": "code",
   "execution_count": 1,
   "id": "5940263d-372c-4c60-82d3-f9938e5921de",
   "metadata": {},
   "outputs": [],
   "source": [
    "def format_message(history: list, role: str, content: str):\n",
    "    prompt = {\n",
    "        'role': role,\n",
    "        'content': content\n",
    "    }\n",
    "    history.append(prompt)\n",
    "    return history"
   ]
  },
  {
   "cell_type": "code",
   "execution_count": 20,
   "id": "17e3221b-23db-41ee-bd5f-d960c8732fe2",
   "metadata": {},
   "outputs": [],
   "source": [
    "def get_stream(model_name: str, chat_history: list):\n",
    "    '''get a streaming chat from a model\n",
    "    '''\n",
    "    stream = chat(\n",
    "        model=model_name,\n",
    "        messages=chat_history,\n",
    "        stream=True,\n",
    "    )\n",
    "\n",
    "    return stream"
   ]
  },
  {
   "cell_type": "code",
   "execution_count": 91,
   "id": "1631279a-a7ad-4bf9-b6ae-e45a902e6b3c",
   "metadata": {},
   "outputs": [],
   "source": [
    "msg_history = []\n",
    "\n",
    "prompt_1 = \"\"\"\n",
    "Main command: \n",
    "Code a Python and SimPy 4.1 discrete-event simulation model of a MMs\n",
    "The code will be added in stages. In this first stage only the arrival want to model the arrival processes. \n",
    "I would like to be able to set the run length and the arrival rate. Use a numpy Generator for sampling.\n",
    "Do not output any introductory or explantory text. Only provide python code.\"\"\"\n",
    "\n",
    "# update history\n",
    "msg_history = format_message(msg_history, 'user', prompt_1)"
   ]
  },
  {
   "cell_type": "code",
   "execution_count": 92,
   "id": "43ee0637-ddc7-4a81-b80a-bf7044bc80c9",
   "metadata": {},
   "outputs": [],
   "source": [
    "critique_prompt = \"\"\"\n",
    "Analyse the last version of the python model produced in our discussion.  Identify bugs, mistakes and hallucinations in the simpy and\n",
    "python code.  Fix them and provide a new version of the model that is an improvement. If there are no mistakes \n",
    "or problems then write \"model stage complete\".\n",
    "\"\"\""
   ]
  },
  {
   "cell_type": "code",
   "execution_count": 93,
   "id": "782f0a88-bd7f-48d6-89f7-f3788e2b3685",
   "metadata": {},
   "outputs": [
    {
     "name": "stdout",
     "output_type": "stream",
     "text": [
      "********* ITERATION 0 *******************\n",
      "\n",
      "python\n",
      "import simpy\n",
      "import numpy as np\n",
      "\n",
      "class MMSSimulation:\n",
      "    def __init__(self, env, arrival_rate):\n",
      "        self.env = env\n",
      "        self.arrival_rate = arrival_rate\n",
      "        self.process = env.process(self.run())\n",
      "    \n",
      "    def run(self):\n",
      "        # Initialize the random number generator for exponential distribution\n",
      "        rng = np.random.default_rng()\n",
      "        \n",
      "        while True:\n",
      "            # Sample inter-arrival time using an exponential distribution\n",
      "            inter_arrival_time = rng.exponential(1.0 / self.arrival_rate)\n",
      "            \n",
      "            # Schedule the next arrival\n",
      "            yield self.env.timeout(inter_arrival_time)\n",
      "\n",
      "def main():\n",
      "    # Parameters for the simulation\n",
      "    run_length = 100  # Simulation run length in time units\n",
      "    arrival_rate = 5  # Arrival rate (lambda) of customers per unit time\n",
      "    \n",
      "    # Create a SimPy environment\n",
      "    env = simpy.Environment()\n",
      "    \n",
      "    # Initialize the MMSSimulation with the given environment and parameters\n",
      "    mms_simulation = MMSSimulation(env, arrival_rate)\n",
      "    \n",
      "    # Run the simulation for the specified run length\n",
      "    env.run(until=run_length)\n",
      "\n",
      "if __name__ == \"__main__\":\n",
      "    main()\n",
      "```\n",
      "\n",
      "This code sets up a discrete-event simulation using SimPy to model customer arrivals at a multi-server system (MMS). The `MMSSimulation` class handles the arrival process, and you can set the `run_length` and `arrival_rate` as needed. The inter-arrival times are sampled from an exponential distribution using NumPy's random generator.********* ITERATION 1 *******************\n",
      "\n",
      "Here's an analysis of the provided Python model with corrections:\n",
      "\n",
      "### Analysis\n",
      "\n",
      "1. **Indentation Errors**: The original code contains inconsistent indentation, which is crucial in Python for defining blocks of code.\n",
      "\n",
      "2. **Syntax Issues**: There are some syntax errors, such as missing spaces after commas and incorrect usage of triple quotes.\n",
      "\n",
      "3. **Import Statements**: The import statements should be correctly formatted without extra spaces or line breaks.\n",
      "\n",
      "4. **Class Initialization**: The `__init__` method should have proper indentation and formatting.\n",
      "\n",
      "5. **Process Method**: The `run` method needs correct indentation and formatting.\n",
      "\n",
      "6. **Main Function**: The main function should also follow proper Python syntax for readability and execution.\n",
      "\n",
      "### Corrected Code\n",
      "\n",
      "```python\n",
      "import simpy\n",
      "import numpy as np\n",
      "\n",
      "\n",
      "class MMSSimulation:\n",
      "    \n",
      "    def __init__(self, env, arrival_rate):\n",
      "        self.env = env\n",
      "        self.arrival_rate = arrival_rate\n",
      "        self.process = env.process(self.run())\n",
      "\n",
      "    def run(self):\n",
      "        rng = np.random.default_rng()\n",
      "        \n",
      "        while True:\n",
      "            inter_arrival_time = rng.exponential(1.0 / self.arrival_rate)\n",
      "            yield self.env.timeout(inter_arrival_time)\n",
      "\n",
      "\n",
      "def main():\n",
      "    run_length = 100  # Simulation run length in time units\n",
      "    arrival_rate = 5  # Arrival rate (lambda) of customers per unit time\n",
      "\n",
      "    env = simpy.Environment()\n",
      "    mms_simulation = MMSSimulation(env, arrival_rate)\n",
      "\n",
      "    env.run(until=run_length)\n",
      "\n",
      "\n",
      "if __name__ == \"__main__\":\n",
      "    main()\n",
      "```\n",
      "\n",
      "### Improvements Made\n",
      "\n",
      "- Corrected indentation throughout the code.\n",
      "- Fixed syntax issues in import statements and class definitions.\n",
      "- Ensured consistent formatting for readability.\n",
      "- Removed unnecessary comments and cleaned up the structure.\n",
      "\n",
      "This version of the model should now be free of bugs related to syntax and structure, making it a functional discrete-event simulation for modeling arrival processes. \n",
      "\n",
      "**Model stage complete**: The provided code is now correctly formatted and should work as intended for simulating arrivals in an M/M/∞ queue using SimPy and NumPy."
     ]
    }
   ],
   "source": [
    "ITERATIONS = 2\n",
    "model_id = 0\n",
    "\n",
    "\n",
    "for i in range(ITERATIONS):\n",
    "    print(f\"********* ITERATION {i} *******************\")\n",
    "    print(\"\")\n",
    "    stream = get_stream(local_models[model_id], msg_history)\n",
    "    response = \"\"\n",
    "    with open(f'response_{i}.txt', 'w') as writer:\n",
    "        for chunk in stream:\n",
    "          print(chunk['message']['content'], end='', flush=True)\n",
    "          writer.write(chunk['message']['content'])\n",
    "          response += (chunk['message']['content'] + \"\\n\")\n",
    "        # store the response in history\n",
    "        msg_history = format_message(msg_history, 'assistant', response)\n",
    "        msg_history = format_message(msg_history, 'user', critique_prompt)"
   ]
  },
  {
   "cell_type": "code",
   "execution_count": 48,
   "id": "22709723-9f7e-43fd-af95-f9e911d00f86",
   "metadata": {},
   "outputs": [],
   "source": [
    "import simpy\n",
    "import numpy as np\n",
    "\n",
    "class MMkModel:\n",
    "    def __init__(self, env, num_servers, arr_rate):\n",
    "        self.env = env\n",
    "        self.num_servers = num_servers\n",
    "        self.arr_rate = arr_rate\n",
    "        self.server = simpy.Resource(env, capacity=num_servers)\n",
    "        self.inter_arrival_times = []\n",
    "        \n",
    "    def arrival_process(self):\n",
    "        while True:\n",
    "            inter_arrival_time = np.random.exponential(1/self.arr_rate)\n",
    "            yield self.env.timeout(inter_arrival_time)\n",
    "            self.inter_arrival_times.append(inter_arrival_time)\n",
    "\n",
    "# Setup and run\n",
    "np_rng = np.random.default_rng()\n",
    "env = simpy.Environment()\n",
    "model = MMkModel(env, num_servers=2, arr_rate=5.0)\n",
    "env.process(model.arrival_process())\n",
    "env.run(until=1000.0)"
   ]
  },
  {
   "cell_type": "code",
   "execution_count": 51,
   "id": "16d6ab94-9ea8-46b3-ad3c-c0700b7d3793",
   "metadata": {},
   "outputs": [
    {
     "data": {
      "text/plain": [
       "np.float64(0.20461854058668488)"
      ]
     },
     "execution_count": 51,
     "metadata": {},
     "output_type": "execute_result"
    }
   ],
   "source": [
    "np.asarray(model.inter_arrival_times).mean()"
   ]
  },
  {
   "cell_type": "code",
   "execution_count": 62,
   "id": "4e9d39ae-c5fd-40ff-a50c-74e11e7ec050",
   "metadata": {},
   "outputs": [
    {
     "name": "stdout",
     "output_type": "stream",
     "text": [
      "Arrival at 0.15\n",
      "Arrival at 0.20\n",
      "Arrival at 0.25\n",
      "Arrival at 0.52\n",
      "Arrival at 1.17\n",
      "Arrival at 1.92\n",
      "Arrival at 2.31\n",
      "Arrival at 2.57\n",
      "Arrival at 2.60\n",
      "Arrival at 2.65\n",
      "Arrival at 3.09\n",
      "Arrival at 6.17\n",
      "Arrival at 9.36\n",
      "Arrival at 9.58\n",
      "Arrival at 10.18\n",
      "Arrival at 11.57\n",
      "Arrival at 12.54\n",
      "Arrival at 14.48\n",
      "Arrival at 15.81\n",
      "Arrival at 16.54\n",
      "Arrival at 17.63\n",
      "Arrival at 17.80\n",
      "Arrival at 20.32\n",
      "Arrival at 23.73\n",
      "Arrival at 26.58\n",
      "Arrival at 28.44\n",
      "Arrival at 30.08\n",
      "Arrival at 30.94\n",
      "Arrival at 31.29\n",
      "Arrival at 31.38\n",
      "Arrival at 32.13\n",
      "Arrival at 32.95\n",
      "Arrival at 34.18\n",
      "Arrival at 34.36\n",
      "Arrival at 35.97\n",
      "Arrival at 36.00\n",
      "Arrival at 36.14\n",
      "Arrival at 38.12\n",
      "Arrival at 38.13\n",
      "Arrival at 39.20\n",
      "Arrival at 39.75\n",
      "Arrival at 44.17\n",
      "Arrival at 44.18\n",
      "Arrival at 44.19\n",
      "Arrival at 47.78\n",
      "Arrival at 50.10\n",
      "Arrival at 50.22\n",
      "Arrival at 51.14\n",
      "Arrival at 51.42\n",
      "Arrival at 51.85\n",
      "Arrival at 51.91\n",
      "Arrival at 53.13\n",
      "Arrival at 53.61\n",
      "Arrival at 54.87\n",
      "Arrival at 56.15\n",
      "Arrival at 58.88\n",
      "Arrival at 59.96\n",
      "Arrival at 61.11\n",
      "Arrival at 61.71\n",
      "Arrival at 62.18\n",
      "Arrival at 62.47\n",
      "Arrival at 63.39\n",
      "Arrival at 63.57\n",
      "Arrival at 63.74\n",
      "Arrival at 64.35\n",
      "Arrival at 65.38\n",
      "Arrival at 67.37\n",
      "Arrival at 68.01\n",
      "Arrival at 68.32\n",
      "Arrival at 68.73\n",
      "Arrival at 71.35\n",
      "Arrival at 71.49\n",
      "Arrival at 71.66\n",
      "Arrival at 72.74\n",
      "Arrival at 73.57\n",
      "Arrival at 73.75\n",
      "Arrival at 73.96\n",
      "Arrival at 74.39\n",
      "Arrival at 75.91\n",
      "Arrival at 75.98\n",
      "Arrival at 76.30\n",
      "Arrival at 76.35\n",
      "Arrival at 77.74\n",
      "Arrival at 77.75\n",
      "Arrival at 78.14\n",
      "Arrival at 78.21\n",
      "Arrival at 78.70\n",
      "Arrival at 79.41\n",
      "Arrival at 79.79\n",
      "Arrival at 80.97\n",
      "Arrival at 83.40\n",
      "Arrival at 84.83\n",
      "Arrival at 92.57\n",
      "Arrival at 98.23\n",
      "Arrival at 99.84\n",
      "Arrival at 99.88\n"
     ]
    }
   ],
   "source": [
    "import simpy\n",
    "import numpy as np\n",
    "\n",
    "def arrivals(env, arrival_rate):\n",
    "    \"\"\"Generate arrivals based on an exponential distribution.\"\"\"\n",
    "    while True:\n",
    "        # Sample inter-arrival time from an exponential distribution\n",
    "        inter_arrival_time = np.random.exponential(1 / arrival_rate)\n",
    "        yield env.timeout(inter_arrival_time)  # Wait for the next event\n",
    "        print(f\"Arrival at {env.now:.2f}\")\n",
    "\n",
    "def run_simulation(run_length, arrival_rate):\n",
    "    \"\"\"Run the simulation with specified parameters.\"\"\"\n",
    "    env = simpy.Environment()\n",
    "    # Start the arrivals process\n",
    "    env.process(arrivals(env, arrival_rate))\n",
    "    # Run the simulation for the given run length\n",
    "    env.run(until=run_length)\n",
    "\n",
    "# Example usage:\n",
    "run_simulation(run_length=100.0, arrival_rate=1.0)"
   ]
  },
  {
   "cell_type": "code",
   "execution_count": 76,
   "id": "c2e4fd32-4f37-4413-b288-2e3642d4bf91",
   "metadata": {},
   "outputs": [
    {
     "name": "stdout",
     "output_type": "stream",
     "text": [
      "Total arrivals: 526\n"
     ]
    }
   ],
   "source": [
    "import simpy\n",
    "import numpy as np\n",
    "\n",
    "class MMSystem:\n",
    "    def __init__(self, env, arrival_rate):\n",
    "        self.env = env\n",
    "        self.arrival_rate = arrival_rate\n",
    "        self.n_arrivals = 0\n",
    "        \n",
    "        # Generator for inter-arrival times\n",
    "        self.inter_arrival_times = self._generate_inter_arrival_times()\n",
    "        \n",
    "        # Process to handle arrivals\n",
    "        self.env.process(self.run())\n",
    "\n",
    "    def _generate_inter_arrival_times(self):\n",
    "        \"\"\"Generator function for exponentially distributed inter-arrival times.\"\"\"\n",
    "        while True:\n",
    "            yield np.random.exponential(1.0 / self.arrival_rate)\n",
    "\n",
    "    def run(self):\n",
    "        \"\"\"Main process to simulate arrivals in the system.\"\"\"\n",
    "        while True:\n",
    "            # Get next inter-arrival time\n",
    "            inter_arrival_time = next(self.inter_arrival_times)\n",
    "            \n",
    "            # Increment arrival counter\n",
    "            self.n_arrivals += 1\n",
    "            \n",
    "            # Wait for the inter-arrival time duration\n",
    "            yield self.env.timeout(inter_arrival_time)\n",
    "\n",
    "def simulate_mms(run_length, arrival_rate):\n",
    "    env = simpy.Environment()\n",
    "    mm_system = MMSystem(env, arrival_rate)\n",
    "    \n",
    "    # Run the simulation\n",
    "    env.run(until=run_length)\n",
    "    \n",
    "    return mm_system.n_arrivals\n",
    "\n",
    "# Example usage\n",
    "if __name__ == \"__main__\":\n",
    "    run_length = 100.0  # Time units\n",
    "    arrival_rate = 5    # Arrivals per time unit\n",
    "    \n",
    "    total_arrivals = simulate_mms(run_length, arrival_rate)\n",
    "    \n",
    "    print(f\"Total arrivals: {total_arrivals}\")"
   ]
  },
  {
   "cell_type": "code",
   "execution_count": null,
   "id": "bf061e1a-df63-44b3-b878-d015696a2991",
   "metadata": {},
   "outputs": [],
   "source": []
  }
 ],
 "metadata": {
  "kernelspec": {
   "display_name": "Python 3 (ipykernel)",
   "language": "python",
   "name": "python3"
  },
  "language_info": {
   "codemirror_mode": {
    "name": "ipython",
    "version": 3
   },
   "file_extension": ".py",
   "mimetype": "text/x-python",
   "name": "python",
   "nbconvert_exporter": "python",
   "pygments_lexer": "ipython3",
   "version": "3.11.11"
  }
 },
 "nbformat": 4,
 "nbformat_minor": 5
}
